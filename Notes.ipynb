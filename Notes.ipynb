{
 "cells": [
  {
   "cell_type": "markdown",
   "metadata": {},
   "source": [
    "## Interest Rate\n",
    "\n",
    "### Coumpounding interest\n",
    "\n",
    "* If the interest rate is $10 \\% (r=0.1)$ anuually, then $P_0 \\times (1+r)^n =P_0 \\times (1.1)^n  $ after $n$ years\n",
    "* When will the principal amount $P_0$ becomes double?  \n",
    "    $P_0 \\times (1.1)^x = 2 \\times P_0$  \n",
    "    $x=log_{1.1}2$\n",
    "* Rule of 72:  \n",
    "    if $10\\%$, $\\frac{72}{10}$ $\\approx$ 7.2 years for the money to become double.  \n",
    "    if $6\\%$, $\\frac{72}{6}$ $\\approx$ 12 years for the money to become double.\n",
    "* Assume interest rate is $r$ anuually. The amount after $t$ years if compounding happens:  \n",
    "    * yearly, then $P_0 (1+r)^{t}$\n",
    "    * quarterly, then $P_0 (1+\\frac{r}{4})^{4t}$\n",
    "    * daily, then $P_0 (1+\\frac{r}{365})^{365t}$\n",
    "    * continuously, then $P_t=P_0 \\times \\lim_{x \\to \\infty} (1+ \\frac{r}{x})^{x  t}$ = $P_0 e^{rt}$, because $\\lim_{x \\to \\infty} (1+ \\frac{1}{x/r})^{x/r}=e$   \n",
    "        $rt=log(\\frac{P_t}{P_0})$   \n",
    "        $r= \\frac{1}{t} \\times log(\\frac{P_t}{P_0})$\n",
    "        \n",
    "    \n",
    "#### Simple return  ($R_t$)\n",
    "\n",
    "* For a single time period between date $t-1$ to date $t$,   \n",
    "    $R_t = \\frac{P_t - P_{t-1}}{P_{t-1}} = \\frac{P_t}{P_{t-1}}-1$  \n",
    "    $P_t = P_{t-1} (1+R_t)$   \n",
    "    $\\frac{P_t}{P_{t-1}}=1+R_t$\n",
    "* Multiperiod simple return for $k$ days between dates $t-k$ to $t$,  \n",
    "    $\\frac{P_t}{P_{t-k}}=1+R_t[k] = (1+R_t)(1+R_{t-1}) \\ldots (1+R_{t-k+1})$   \n",
    "    \n",
    "#### Continuously coumpound return  ($r_t$)\n",
    "\n",
    "* For a single time period between date $t-1$ to date $t$,  \n",
    "    $P_t = P_{t-1} \\times e^{r}$,  here time duration $dt=1$  \n",
    "    $r_t=log(\\frac{P_t}{P_{t-1}}) $  \n",
    "\n",
    "* Mutliperiod ($k$ periods) returns   \n",
    "    $r_t[k]=r_t + r_{t-1} + \\ldots + r_{t-k+1} = log(P_t)-log(P_{t-k})$   \n",
    "    From Central limit theorem, $r_t[k]$ converges to normal distribution\n",
    "    \n",
    "#### Simple return vs log return  \n",
    "\n",
    "* Log return and simple return relationship: $r_t= log(1+R_t)$ or $R_t=e^{r_t}-1$\n",
    "* log return values are always smaller than return values\n",
    "* when $R_t << 1$, $log(1+R_t) \\approx R_t$ $\\Rightarrow$ $r_t \\approx R_t$\n",
    "* If we assume $R$ is normally distributed, $(1+R_t)(1+R_{t-1}) \\ldots (1+R_{t-k+1})$ is not normal, but $r_t + r_{t-1} + \\ldots + r_{t-k+1}$ is normal (Central Limit Theorem). \n",
    "* Read [here](https://quantivity.wordpress.com/2011/02/21/why-log-returns/) for more on why log returns are preferred. \n",
    "* Portfoliio return: $R=\\sum_{i=1}^N w_i R_i \\approx \\sum_{i=1}^N w_i r_i$"
   ]
  },
  {
   "cell_type": "markdown",
   "metadata": {},
   "source": [
    "## Brownian motion\n",
    "\n",
    "* Daily returns are assumed to have normal distribution. How good is this assumption?"
   ]
  },
  {
   "cell_type": "code",
   "execution_count": null,
   "metadata": {},
   "outputs": [],
   "source": []
  }
 ],
 "metadata": {
  "kernelspec": {
   "display_name": "Python 3",
   "language": "python",
   "name": "python3"
  },
  "language_info": {
   "codemirror_mode": {
    "name": "ipython",
    "version": 3
   },
   "file_extension": ".py",
   "mimetype": "text/x-python",
   "name": "python",
   "nbconvert_exporter": "python",
   "pygments_lexer": "ipython3",
   "version": "3.7.4"
  }
 },
 "nbformat": 4,
 "nbformat_minor": 4
}
